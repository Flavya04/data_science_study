{
 "cells": [
  {
   "cell_type": "code",
   "execution_count": 3,
   "metadata": {},
   "outputs": [],
   "source": [
    "import cv2\n",
    "import imgaug as iaa\n",
    "import numpy as np\n",
    "import imgaug as ia \n",
    "import glob\n",
    "import os\n",
    "\n",
    "from sklearn import metrics\n",
    "from keras.preprocessing import image\n",
    "from keras.preprocessing import image\n",
    "from keras import backend as K"
   ]
  },
  {
   "cell_type": "code",
   "execution_count": 17,
   "metadata": {},
   "outputs": [],
   "source": [
    "diretorio_rgb = \"../../daninhas/dataset/test/rgb/\"\n",
    "diretorio_true = \"../../daninhas/ortomosaicos/pre-emergente/190837/marcacoes/true/\"\n",
    "diretorio_pred = \"../../daninhas/ortomosaicos/pre-emergente/190837/marcacoes/pred/\"\n",
    "name = '190837_daninha_2048_1280.png'"
   ]
  },
  {
   "cell_type": "code",
   "execution_count": 18,
   "metadata": {
    "scrolled": false
   },
   "outputs": [
    {
     "data": {
      "image/png": "[encoded data removed]",
      "text/plain": [
       "<Figure size 576x256 with 1 Axes>"
      ]
     },
     "metadata": {},
     "output_type": "display_data"
    },
    {
     "data": {
      "image/png": "[encoded data removed]",
      "text/plain": [
       "<Figure size 576x256 with 1 Axes>"
      ]
     },
     "metadata": {},
     "output_type": "display_data"
    },
    {
     "name": "stdout",
     "output_type": "stream",
     "text": [
      "Indice de Jaccard  :  0.3090684762492289\n",
      "Coeficinte de Dice :  0.47219604147031097\n",
      "Precisão:  0.9277777777777778\n",
      "Acurácia:  0.59765625\n"
     ]
    }
   ],
   "source": [
    "img_true =  image.load_img(diretorio_true + name, target_size=(256,256))\n",
    "img_true = image.img_to_array(img_true)#.astype(int)\n",
    "img_true = cv2.cvtColor(img_true, cv2.COLOR_BGR2GRAY)\n",
    "iaa.imshow(img_true)\n",
    "\n",
    "img_pred =  image.load_img(diretorio_pred + name, target_size=(256,256))\n",
    "img_pred = image.img_to_array(img_pred)#.astype(int)\n",
    "img_pred = cv2.cvtColor(img_pred, cv2.COLOR_BGR2GRAY)\n",
    "iaa.imshow(img_pred)\n",
    "\n",
    "vl_jac = metrics.jaccard_score(img_pred, img_true, average='micro') #iou\n",
    "vl_dic = metrics.f1_score(img_true, img_pred, average='micro')\n",
    "vl_pre = metrics.precision_score(img_true, img_pred, average='micro')\n",
    "vl_acc = metrics.accuracy_score(img_true, img_pred)\n",
    "\n",
    "print('Indice de Jaccard  : ', vl_jac)\n",
    "print('Coeficinte de Dice : ', vl_dic)\n",
    "print('Precisão: ', vl_pre)\n",
    "print('Acurácia: ', vl_acc)\n"
   ]
  }
 ],
 "metadata": {
  "kernelspec": {
   "display_name": "Python 3 (ipykernel)",
   "language": "python",
   "name": "python3"
  },
  "language_info": {
   "codemirror_mode": {
    "name": "ipython",
    "version": 3
   },
   "file_extension": ".py",
   "mimetype": "text/x-python",
   "name": "python",
   "nbconvert_exporter": "python",
   "pygments_lexer": "ipython3",
   "version": "3.8.10"
  }
 },
 "nbformat": 4,
 "nbformat_minor": 4
}
